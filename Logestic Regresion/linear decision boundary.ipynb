{
 "cells": [
  {
   "cell_type": "code",
   "execution_count": 47,
   "id": "ff9cb7cb",
   "metadata": {},
   "outputs": [],
   "source": [
    "import numpy as np\n",
    "import math\n",
    "from scipy.optimize import minimize\n",
    "import matplotlib.pyplot as plt\n",
    "\n",
    "from sklearn.preprocessing import StandardScaler"
   ]
  },
  {
   "cell_type": "code",
   "execution_count": 24,
   "id": "3526ef5d",
   "metadata": {},
   "outputs": [],
   "source": [
    "''' The dataset is about admision in the university based on the scores of two courese'''\n",
    "\n",
    "def load_admitted_university_dataset(filename='dataset/admitted_to_a_university.txt', delimiter=','):\n",
    "        \n",
    "        data = np.genfromtxt(filename, delimiter=',')\n",
    "        x, y = data[:, 0:2], data[:, 2]\n",
    "        return x, y"
   ]
  },
  {
   "cell_type": "code",
   "execution_count": 31,
   "id": "be081770",
   "metadata": {},
   "outputs": [
    {
     "name": "stderr",
     "output_type": "stream",
     "text": [
      "No artists with labels found to put in legend.  Note that artists whose label start with an underscore are ignored when legend() is called with no argument.\n"
     ]
    },
    {
     "data": {
      "image/png": "[encoded data removed]",
      "text/plain": [
       "<Figure size 432x288 with 1 Axes>"
      ]
     },
     "metadata": {
      "needs_background": "light"
     },
     "output_type": "display_data"
    }
   ],
   "source": [
    "'''visulized_data'''\n",
    "X,y=load_admitted_university_dataset(filename='dataset/admitted_to_a_university.txt', delimiter=',')\n",
    "\n",
    "alpha=0.5\n",
    "neg = X[y == 0]\n",
    "pos = X[y == 1]\n",
    "\n",
    "\n",
    "plt.scatter(neg[:, 0], neg[:, 1], s=50, c='r', marker='x', alpha=alpha )\n",
    "plt.scatter(pos[:, 0], pos[:, 1], s=50, c='b', marker='o', alpha=alpha, edgecolors='k')\n",
    "plt.xlabel('Exam 1 score')\n",
    "plt.ylabel('Exam 2 score')\n",
    "plt.legend()\n",
    "plt.show()"
   ]
  },
  {
   "cell_type": "code",
   "execution_count": null,
   "id": "27de855c",
   "metadata": {},
   "outputs": [],
   "source": []
  },
  {
   "cell_type": "code",
   "execution_count": 32,
   "id": "cc7b540e",
   "metadata": {},
   "outputs": [],
   "source": [
    "def feature_normalize(X):\n",
    "    \"\"\"A vectorized implementation of feature normalization.\n",
    "    Arguments:\n",
    "    - X: The raw input features, a 2d array of shape (m, n)\n",
    "        \n",
    "    Outputs:\n",
    "    - X_norm: The normalized version of the input matrix\n",
    "    - mu: The mean of the features\n",
    "    - sigma: The std dev of the features  \n",
    "    befor transformaton :\n",
    "    we put axis=0 because we are going to calulate mean and std on colums not rows\"\"\"\n",
    "    scaler = StandardScaler()\n",
    "    scaler.fit(X)\n",
    "    X_scaled = scaler.transform(X)\n",
    "    \n",
    "    return X_scaled"
   ]
  },
  {
   "cell_type": "code",
   "execution_count": 50,
   "id": "dc9fbf49",
   "metadata": {},
   "outputs": [],
   "source": [
    "def sigmoid(X, theta):\n",
    "    \"\"\" Hypothesis function for linear regression.\n",
    "    \n",
    "    Arguments:\n",
    "        - X: Input matrix, a 2d array of shape (m, n+1)\n",
    "        - theta: parameters, a 2d array of shape (n+1, 1)\n",
    "        \n",
    "    Output:\n",
    "        - Predictions for input data (m-by-1), (100, 1) <class 'numpy.ndarray'>\n",
    "    \"\"\"\n",
    "    \n",
    "    z=X@theta\n",
    "    return 1/(1+ np.exp(-z))"
   ]
  },
  {
   "cell_type": "code",
   "execution_count": 107,
   "id": "e044b94e",
   "metadata": {},
   "outputs": [],
   "source": [
    "def logistic_regression_cost(theta, X, y,reg):\n",
    "    \"\"\" Vectorized implementation of logistic regression cost function.\n",
    "    \n",
    "    Parameters:\n",
    "        - theta: Parameters, a 1d array of shape (n + 1,)\n",
    "        - X: Inputs, a 2d array of shape (m, n + 1)\n",
    "        - y: Target values, a 1d array of shape (m,)\n",
    "        \n",
    "    Returns:\n",
    "        - logistic regression cost\n",
    "    \"\"\"\n",
    "    m, n = X.shape\n",
    "    K0=sigmoid(X, theta)\n",
    "    M0=1-sigmoid(X,theta)\n",
    "    for i in range(m):\n",
    "        if y[i]==1:\n",
    "            M0[i]=1\n",
    "        else:\n",
    "            K0[i]=1    \n",
    "    M=np.log(M0)\n",
    "    K=np.log(K0)\n",
    "    L=(-K.T@ y )-(M.T@(1-y))\n",
    "    R=(reg/2)*(theta @theta.T)\n",
    "    return  (1/m) *L +R\n",
    "    "
   ]
  },
  {
   "cell_type": "code",
   "execution_count": 113,
   "id": "2ae4f05f",
   "metadata": {},
   "outputs": [],
   "source": [
    "\n",
    "def grads(theta, X, y,alpha, num_iterations):\n",
    "    \"\"\" Vectorized implementation of the gradient of logistic regression cost function.\n",
    "    \n",
    "    Parameters:\n",
    "        - theta: Parameters, a 1d array of shape (n + 1,)\n",
    "        - X: Inputs, a 2d array of shape (m, n + 1)\n",
    "        - y: Target values, a 2d array of shape (m,)\n",
    "        \n",
    "    Returns:\n",
    "        - gradient of the logistic regression cost function, a 2d array of shape (n + 1,)\n",
    "    \"\"\"\n",
    "    m, n = X.shape\n",
    "    \n",
    "    for iteration in range(num_iterations):\n",
    "        \n",
    "        '''print cost every 100 iterations'''\n",
    "        if iteration % 100 == 0:\n",
    "            print('%4d: J(%s) = %.2f' %(iteration, theta, \n",
    "            logistic_regression_cost(theta, X, y,reg)))\n",
    "          \n",
    "        # compute gradients\n",
    "        M=sigmoid(X, theta)-y\n",
    "        grads=X.T @ M\n",
    "        theta=theta-(grads*(alpha/m))\n",
    "        # update parameters  \n",
    "    return theta\n"
   ]
  },
  {
   "cell_type": "code",
   "execution_count": 109,
   "id": "4118dd80",
   "metadata": {},
   "outputs": [],
   "source": [
    "def predict(theta, X):\n",
    "    probabilities = sigmoid(X, theta)\n",
    "    y_pred = [0 if p < 0.5 else 1 for p in probabilities]\n",
    "    return y_pred\n",
    "\n",
    "def accuracy(y_pred, y_true):\n",
    "    return 100. * np.sum(y_pred == y_true) / len(y_true) "
   ]
  },
  {
   "cell_type": "code",
   "execution_count": 114,
   "id": "74aad4a9",
   "metadata": {},
   "outputs": [],
   "source": [
    "\n",
    "X_scaled=feature_normalize(X)\n",
    "m, n = X_scaled.shape\n",
    "X_scaled = np.c_[np.ones((m, 1)), X_scaled].reshape((m, n+1))\n",
    "#X_scaled[:,0] = np.ones((m,))\n"
   ]
  },
  {
   "cell_type": "code",
   "execution_count": 122,
   "id": "2e21d86b",
   "metadata": {},
   "outputs": [
    {
     "name": "stdout",
     "output_type": "stream",
     "text": [
      "   0: J([0. 0. 0.]) = 0.69\n",
      " 100: J([0.04703929 0.13245303 0.11824749]) = 0.63\n",
      " 200: J([0.08866903 0.24992838 0.22318998]) = 0.57\n",
      " 300: J([0.12574254 0.35466626 0.31680574]) = 0.53\n",
      " 400: J([0.15902904 0.44868762 0.40088306]) = 0.50\n",
      " 500: J([0.18917716 0.53370865 0.47694453]) = 0.47\n",
      " 600: J([0.21671596 0.61114374 0.5462484 ]) = 0.45\n",
      " 700: J([0.24207074 0.68214407 0.60982125]) = 0.43\n",
      " 800: J([0.26558204 0.747644   0.668498  ]) = 0.41\n",
      " 900: J([0.28752307 0.80840403 0.72295925]) = 0.40\n",
      "1000: J([0.30811419 0.86504674 0.7737627 ]) = 0.38\n",
      "1100: J([0.32753438 0.91808549 0.82136845]) = 0.37\n",
      "1200: J([0.34593015 0.96794697 0.86615887]) = 0.36\n",
      "1300: J([0.36342243 1.01498864 0.90845416]) = 0.35\n",
      "1400: J([0.38011186 1.05951236 0.94852449]) = 0.35\n",
      "1500: J([0.39608284 1.10177494 0.98659944]) = 0.34\n",
      "1600: J([0.41140675 1.14199643 1.02287546]) = 0.33\n",
      "1700: J([0.42614434 1.18036669 1.05752174]) = 0.33\n",
      "1800: J([0.44034775 1.21705052 1.09068492]) = 0.32\n",
      "1900: J([0.45406197 1.25219184 1.12249277]) = 0.32\n",
      "2000: J([0.46732612 1.285917   1.15305727]) = 0.31\n",
      "2100: J([0.48017439 1.31833752 1.18247706]) = 0.31\n",
      "2200: J([0.49263684 1.34955229 1.2108394 ]) = 0.31\n",
      "2300: J([0.50474005 1.3796494  1.23822188]) = 0.30\n",
      "2400: J([0.51650763 1.40870761 1.26469375]) = 0.30\n",
      "2500: J([0.52796066 1.43679766 1.29031706]) = 0.30\n",
      "2600: J([0.53911807 1.46398328 1.31514764]) = 0.29\n",
      "2700: J([0.54999687 1.49032212 1.33923587]) = 0.29\n",
      "2800: J([0.56061248 1.51586645 1.36262737]) = 0.29\n",
      "2900: J([0.57097889 1.54066384 1.38536359]) = 0.29\n",
      "3000: J([0.58110885 1.56475768 1.4074823 ]) = 0.28\n",
      "3100: J([0.59101402 1.58818768 1.429018  ]) = 0.28\n",
      "3200: J([0.60070509 1.61099025 1.4500023 ]) = 0.28\n",
      "3300: J([0.61019191 1.63319887 1.47046421]) = 0.28\n",
      "3400: J([0.61948356 1.65484438 1.49043046]) = 0.27\n",
      "3500: J([0.62858845 1.67595528 1.5099257 ]) = 0.27\n",
      "3600: J([0.63751438 1.6965579  1.52897271]) = 0.27\n",
      "3700: J([0.64626861 1.71667669 1.54759263]) = 0.27\n",
      "3800: J([0.65485791 1.73633432 1.56580505]) = 0.27\n",
      "3900: J([0.66328859 1.75555192 1.5836282 ]) = 0.27\n",
      "4000: J([0.67156657 1.77434916 1.60107907]) = 0.27\n",
      "4100: J([0.67969741 1.7927444  1.61817351]) = 0.26\n",
      "4200: J([0.68768633 1.81075481 1.63492635]) = 0.26\n",
      "4300: J([0.69553824 1.82839645 1.65135145]) = 0.26\n",
      "4400: J([0.70325778 1.84568441 1.66746184]) = 0.26\n",
      "4500: J([0.71084931 1.86263282 1.68326973]) = 0.26\n",
      "4600: J([0.718317   1.87925499 1.6987866 ]) = 0.26\n",
      "4700: J([0.72566475 1.89556343 1.71402328]) = 0.26\n",
      "4800: J([0.73289629 1.91156993 1.72898995]) = 0.26\n",
      "4900: J([0.74001517 1.92728561 1.74369626]) = 0.26\n"
     ]
    }
   ],
   "source": [
    "''' computing minimum by grads'''\n",
    "\n",
    "theta = np.zeros((3,))\n",
    "num_iterations=5000\n",
    "alpha=0.005\n",
    "reg = 0.001\n",
    "theta_grads=grads(theta, X_scaled, y,alpha, num_iterations)"
   ]
  },
  {
   "cell_type": "code",
   "execution_count": 127,
   "id": "2555af84",
   "metadata": {},
   "outputs": [
    {
     "name": "stdout",
     "output_type": "stream",
     "text": [
      "cost= 0.25\n",
      "The best parametrs =\n",
      "[0.74702473 1.942721   1.75815128]\n",
      "accuracy = 90.00%\n"
     ]
    }
   ],
   "source": [
    "print('cost= {:.2f}'.format(logistic_regression_cost(theta_grads, X_scaled, y, reg)))\n",
    "print('The best parametrs =' %theta_grads)\n",
    "print(theta_grads)\n",
    "\n",
    "predictions = predict(theta_grads, X_scaled)\n",
    "acc = accuracy(predictions, y)\n",
    "print('accuracy = {:.2f}%'.format(acc))"
   ]
  },
  {
   "cell_type": "code",
   "execution_count": 126,
   "id": "8754f712",
   "metadata": {},
   "outputs": [
    {
     "data": {
      "image/png": "[encoded data removed]",
      "text/plain": [
       "<Figure size 432x288 with 1 Axes>"
      ]
     },
     "metadata": {
      "needs_background": "light"
     },
     "output_type": "display_data"
    }
   ],
   "source": [
    "\"\"\" We draw a linear decision boundary.\n",
    "    This bound is linear\n",
    "\"\"\"\n",
    "\n",
    "alpha=0.5\n",
    "neg = X_scaled[y == 0]\n",
    "pos = X_scaled[y == 1]\n",
    "\n",
    "\n",
    "plt.scatter(neg[:, 1], neg[:, 2], s=50, c='r', marker='x', alpha=alpha )\n",
    "plt.scatter(pos[:, 1], pos[:, 2], s=50, c='b', marker='o', alpha=alpha, edgecolors='k')\n",
    "plt.plot(X_scaled[:, 1], -(theta_grads[0]+theta_grads[1]*X_scaled[:, 1])/theta_grads[2])\n",
    "\n",
    "plt.show()"
   ]
  },
  {
   "cell_type": "code",
   "execution_count": 123,
   "id": "90e060d7",
   "metadata": {},
   "outputs": [
    {
     "name": "stdout",
     "output_type": "stream",
     "text": [
      "     fun: 0.21770380226151853\n",
      "     jac: array([ 2.23517418e-08, -5.96046448e-08,  4.65661287e-08])\n",
      " message: 'Optimization terminated successfully.'\n",
      "    nfev: 132\n",
      "     nit: 10\n",
      "    njev: 33\n",
      "  status: 0\n",
      " success: True\n",
      "       x: array([1.48740184, 3.49767712, 3.2476717 ])\n"
     ]
    }
   ],
   "source": [
    "\n",
    "# optimize cost function to find the optimal parameters   \n",
    "from scipy.optimize import minimize\n",
    "\n",
    "result = minimize(\n",
    "    logistic_regression_cost, \n",
    "    x0=theta, \n",
    "    args=(X_scaled, y.ravel(), reg), \n",
    "    method='CG')\n",
    "print(result)\n"
   ]
  },
  {
   "cell_type": "code",
   "execution_count": 124,
   "id": "821dba66",
   "metadata": {},
   "outputs": [
    {
     "name": "stdout",
     "output_type": "stream",
     "text": [
      "accuracy = 89.00%\n"
     ]
    }
   ],
   "source": [
    "# compute accuracy\n",
    "theta_opt=result.x \n",
    "predictions = predict(theta_opt, X_scaled)\n",
    "acc = accuracy(predictions, y)\n",
    "print('accuracy = {:.2f}%'.format(acc))"
   ]
  },
  {
   "cell_type": "code",
   "execution_count": null,
   "id": "f3603821",
   "metadata": {},
   "outputs": [],
   "source": []
  },
  {
   "cell_type": "code",
   "execution_count": null,
   "id": "5017fbc7",
   "metadata": {},
   "outputs": [],
   "source": []
  },
  {
   "cell_type": "code",
   "execution_count": null,
   "id": "9b10ebb4",
   "metadata": {},
   "outputs": [],
   "source": []
  },
  {
   "cell_type": "code",
   "execution_count": null,
   "id": "3723e1f1",
   "metadata": {},
   "outputs": [],
   "source": []
  }
 ],
 "metadata": {
  "kernelspec": {
   "display_name": "Python 3 (ipykernel)",
   "language": "python",
   "name": "python3"
  },
  "language_info": {
   "codemirror_mode": {
    "name": "ipython",
    "version": 3
   },
   "file_extension": ".py",
   "mimetype": "text/x-python",
   "name": "python",
   "nbconvert_exporter": "python",
   "pygments_lexer": "ipython3",
   "version": "3.10.6"
  }
 },
 "nbformat": 4,
 "nbformat_minor": 5
}
