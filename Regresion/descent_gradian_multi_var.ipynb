{
 "cells": [
  {
   "cell_type": "code",
   "execution_count": null,
   "id": "51cf677b",
   "metadata": {},
   "outputs": [],
   "source": [
    "''' \n",
    "Implementing linear regression with multiple variables to predict the prices of houses\n",
    "'''"
   ]
  },
  {
   "cell_type": "code",
   "execution_count": 11,
   "id": "e2d3f689",
   "metadata": {},
   "outputs": [],
   "source": [
    "import numpy as np\n",
    "import matplotlib.pyplot as plt\n",
    "from sklearn.preprocessing import StandardScaler\n",
    "scaler = StandardScaler()\n"
   ]
  },
  {
   "cell_type": "code",
   "execution_count": 20,
   "id": "80bf385d",
   "metadata": {},
   "outputs": [],
   "source": [
    "def load_housing_portland_dataset(filename='data_housing_portland.txt', delimiter=','):\n",
    "    '''datas about housing in portland'''\n",
    "    data = np.genfromtxt(filename, delimiter=delimiter)\n",
    "    x, y = data[:, 0:2], data[:, 2].reshape(-1,1)\n",
    "    return x, y"
   ]
  },
  {
   "cell_type": "code",
   "execution_count": 13,
   "id": "0a509a5f",
   "metadata": {},
   "outputs": [],
   "source": [
    "\n",
    "def feature_normalize(X):\n",
    "    \"\"\"A vectorized implementation of feature normalization.\n",
    "    Arguments:\n",
    "    - X: The raw input features, a 2d array of shape (m, n)\n",
    "        \n",
    "    Outputs:\n",
    "    - X_norm: The normalized version of the input matrix\n",
    "    - mu: The mean of the features\n",
    "    - sigma: The std dev of the features  \n",
    "    befor transformaton :\n",
    "    we put axis=0 because we are going to calulate mean and std on colums not rows\"\"\"\n",
    "    \n",
    "    scaler.fit(X)\n",
    "    X_scaled = scaler.transform(X)\n",
    "    \n",
    "    return X_scaled, X.mean(axis=0),X.std(axis=0)"
   ]
  },
  {
   "cell_type": "code",
   "execution_count": 14,
   "id": "127d898a",
   "metadata": {},
   "outputs": [],
   "source": [
    "    \n",
    "def h(X, theta):\n",
    "    \"\"\" Hypothesis function for linear regression.\n",
    "    \n",
    "    Arguments:\n",
    "        - X: Input matrix, a 2d array of shape (m, n+1)\n",
    "        - theta: parameters, a 2d array of shape (n+1, 1)\n",
    "        \n",
    "    Output:\n",
    "        - Predictions for input data (m-by-1)\n",
    "    \"\"\"\n",
    "    return X@theta"
   ]
  },
  {
   "cell_type": "code",
   "execution_count": 18,
   "id": "0beb813e",
   "metadata": {},
   "outputs": [],
   "source": [
    "def compute_cost_multi(X, Y, theta):\n",
    "    \"\"\" A vectorized implementation of MSE cost function\n",
    "    \n",
    "    Arguments:\n",
    "        - X: Inputs, a 2d array of shape (m, n + 1)\n",
    "        - y: Target values, a 2d array of shape (m, 1)\n",
    "        - theta: Parameters, a 2d array of shape (n + 1, 1)\n",
    "        \n",
    "    Outputs:\n",
    "        - the mean squared error value\n",
    "    \"\"\"\n",
    "    m, n = X.shape\n",
    "    M=h(X, theta)-Y\n",
    "    L=M@M.T\n",
    "    return (1/2)*(L.sum()+0.01*np.sum(theta**2))"
   ]
  },
  {
   "cell_type": "code",
   "execution_count": 19,
   "id": "fe9bea14",
   "metadata": {},
   "outputs": [],
   "source": [
    "def gradient_descent_vectorized(X, Y, theta, alpha, num_iterations):\n",
    "    \"\"\" A vectorized implementation of full-batch gradient descent.\n",
    "    \n",
    "    Arguments:\n",
    "        - X: Inputs, a 2d array of shape (m, n + 1)\n",
    "        - y: Target values, a 2d array of shape (m, 1)\n",
    "        - theta: Initial guess for parameters, a 2d array of shape (n + 1, 1)\n",
    "        - alpha: Learning rate (or step size) in G.D. algorithm\n",
    "        - num_iterations: Maximum number of iterations in G.D. algorithm\n",
    "        \n",
    "    Outputs:\n",
    "        - J_history: a list of computed costs during G.D. algorithm\n",
    "        - theta: the final value of parameters after learning\n",
    "    \"\"\"\n",
    "    m, n = X.shape\n",
    "    J=[]\n",
    "    for iteration in range(num_iterations):\n",
    "        \n",
    "        # print cost every 100 iterations\n",
    "        if iteration % 100 == 0:\n",
    "            print('%4d: J(%s) = %.2f' %(iteration, theta.ravel(), \n",
    "            compute_cost_multi(X, Y, theta)))\n",
    "            J.append([iteration, compute_cost_multi(X, Y, theta)])\n",
    "           \n",
    "\n",
    "        \n",
    "        # compute gradients\n",
    "\n",
    "        M0=h(X, theta)-Y\n",
    "        M=M0.flatten()\n",
    "        grads=np.dot(M.T, X)\n",
    "        grads=grads.reshape(-1,1)\n",
    "        theta=theta-(grads*(alpha/m ))\n",
    "        # update parameters  \n",
    "            \n",
    "    return J, theta\n",
    "\n",
    "\n",
    "  "
   ]
  },
  {
   "cell_type": "code",
   "execution_count": 17,
   "id": "aa713fce",
   "metadata": {},
   "outputs": [
    {
     "name": "stdout",
     "output_type": "stream",
     "text": [
      "   0: J([-0.39234167  1.17731526 -0.27559368]) = 127990615212959.88\n",
      " 100: J([215810.47318164  61446.74879475  20069.75933164]) = 17148141011102.89\n",
      " 200: J([294804.22956134  83217.35712223  15219.750088  ]) = 2297502357086.05\n",
      " 300: J([323718.49915497  93537.22663981   8412.17332003]) = 307818618787.79\n",
      " 400: J([334302.05695053  99411.57479256   3266.88920916]) = 41241438460.42\n",
      " 500: J([ 3.38175981e+05  1.03032205e+05 -2.02405150e+02]) = 5525514515.60\n",
      " 600: J([339593.96302173 105328.70542293  -2467.49252974]) = 740306638.22\n",
      " 700: J([340112.99015848 106799.40647686  -3931.67293811]) = 99186042.68\n",
      " 800: J([340302.97087652 107744.2203242   -4875.13326268]) = 13288913.75\n",
      " 900: J([340372.50996355 108351.80941611  -5482.44139716]) = 1780444.34\n",
      "1000: J([340397.96351838 108742.66510229  -5873.23876361]) = 238543.35\n",
      "1100: J([340407.28034265 108994.12513884  -6124.68669444]) = 31959.96\n",
      "1200: J([340410.69060165 109155.90944133  -6286.46848408]) = 4281.99\n",
      "1300: J([340411.93886674 109259.99933957  -6390.55786072]) = 573.70\n",
      "1400: J([340412.39577213 109326.96965348  -6457.52806636]) = 76.86\n",
      "1500: J([340412.56301428 109370.05767814  -6500.61606854]) = 10.30\n",
      "1600: J([340412.62423032 109397.78008899  -6528.33847473]) = 1.38\n",
      "1700: J([340412.64663737 109415.61641733  -6546.17480211]) = 0.18\n",
      "1800: J([340412.65483907 109427.0921372   -6557.65052178]) = 0.02\n",
      "1900: J([340412.65784116 109434.47550365  -6565.03388818]) = 0.00\n",
      "The best parameters =[340412.65894002 109439.22588976  -6569.78427428] \n"
     ]
    },
    {
     "data": {
      "image/png": "[encoded data removed]",
      "text/plain": [
       "<Figure size 432x288 with 1 Axes>"
      ]
     },
     "metadata": {
      "needs_background": "light"
     },
     "output_type": "display_data"
    }
   ],
   "source": [
    "    X, y = load_housing_portland_dataset(filename='data_housing_portland.txt')\n",
    "    X_norm, mu, sigma=feature_normalize(X)\n",
    "    X = np.c_[np.ones((X.shape[0], 1)), X_norm]\n",
    "    Y=y/1000\n",
    "    m, n = X.shape\n",
    "    theta = np.random.randn(3, 1)\n",
    "    alpha = 0.01\n",
    "    num_iterations =2000\n",
    "\n",
    "    J_history, theta = gradient_descent_vectorized(X, y, theta, alpha, num_iterations)\n",
    "    \n",
    "    # print the final value of parameters\n",
    "    print(f\"The best parameters =%s \"  %theta.ravel())\n",
    "   \n",
    "    \n",
    "    # plot cost versus iteration\n",
    "    plt.plot(J_history)\n",
    "    plt.title(\"Alpha = %f\" % (alpha))\n",
    "    plt.xlabel('Number of iterations')\n",
    "    plt.ylabel('Cost J')\n",
    "    plt.show()"
   ]
  },
  {
   "cell_type": "code",
   "execution_count": null,
   "id": "cd952761",
   "metadata": {},
   "outputs": [],
   "source": []
  }
 ],
 "metadata": {
  "kernelspec": {
   "display_name": "Python 3 (ipykernel)",
   "language": "python",
   "name": "python3"
  },
  "language_info": {
   "codemirror_mode": {
    "name": "ipython",
    "version": 3
   },
   "file_extension": ".py",
   "mimetype": "text/x-python",
   "name": "python",
   "nbconvert_exporter": "python",
   "pygments_lexer": "ipython3",
   "version": "3.9.10"
  }
 },
 "nbformat": 4,
 "nbformat_minor": 5
}
